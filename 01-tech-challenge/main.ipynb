{
 "cells": [
  {
   "cell_type": "markdown",
   "id": "5fee56fd",
   "metadata": {},
   "source": [
    "## Tech Challenge <01>"
   ]
  },
  {
   "cell_type": "markdown",
   "id": "324ac16f",
   "metadata": {},
   "source": [
    "### Grupo"
   ]
  },
  {
   "cell_type": "markdown",
   "id": "14605ad4",
   "metadata": {},
   "source": [
    "### Curso\n",
    "Pós graduação em IA para Devs"
   ]
  },
  {
   "cell_type": "markdown",
   "id": "c3b2df83",
   "metadata": {},
   "source": [
    "### Desafio\n",
    "\n",
    "\n",
    "Você é um profissional encarregado de desenvolver um modelo preditivo de regressão para prever o valor dos custos médicos individuais cobrados pelo seguro de saúde.\n",
    "\n",
    "A base de dados para este desafio pode ser algo como no exemplo a seguir:\n",
    "\n",
    "```bash\n",
    "idade,gênero,imc,filhos,fumante,região,encargos\n",
    "56,feminino,29.774373714007336,2,sim,sudoeste,31109.889763423336\n",
    "46,masculino,25.857394655216346,1,não,nordeste,26650.702646642694\n",
    "32,masculino,23.014839993647488,0,não,sudoeste,21459.03799039332\n",
    "```\n",
    "\n",
    "Você precisa apenas alimentar ela com mais informações ou utilizar uma outra de sua preferência.\n",
    "\n",
    "#### Tarefas\n",
    "\n",
    "##### Exploração de dados\n",
    "- Carregue a base de dados e explore suas características.\n",
    "- Analise estatísticas descritivas e visualize distribuições relevantes.\n",
    "\n",
    "##### Pré-processamento de dados\n",
    "- Realize a limpeza dos dados, tratando valores ausentes (se necessário).\n",
    "- Converta variáveis categóricas em formatos adequados para modelagem.\n",
    "\n",
    "##### Modelagem\n",
    "- Crie um modelo preditivo de regressão utilizando uma técnica à sua escolha (por exemplo, Regressão Linear, Árvores de Decisão, etc).\n",
    "- Divida o conjunto de dados em conjuntos de treinamento e teste.\n",
    "\n",
    "##### Treinamento e avaliação do modelo\n",
    "- Treine o modelo com o conjunto de treinamento.\n",
    "\n",
    "##### Validação estatística\n",
    "- Utilize métricas estatísticas para validar a eficácia do modelo (p-value, intervalos de confiança).\n",
    "\n",
    "##### O que avaliaremos\n",
    "Apresente resultados visuais, como gráficos de previsões vs. valores reais.\n",
    "\n",
    "##### Observações\n",
    "Elabore um relatório que inclua uma análise dos resultados, insights obtidos e validação estatística.\n",
    "Esperamos que o modelo seja capaz de fazer previsões confiáveis dos custos médicos individuais com base nas características fornecidas.\n"
   ]
  },
  {
   "cell_type": "markdown",
   "id": "1b151ba2",
   "metadata": {},
   "source": [
    "### Base de dados\n",
    "\n",
    "Nossa base de dados se encontra para download no [kaggle](https://www.kaggle.com/datasets/mirichoi0218/insurance). \n",
    "\n",
    "Trata-se de um levantamento de um plano de saúde, mostrando a relação do custo das despesas médicas e as características de cada beneficiário do seguro.\n",
    "\n",
    "#### Colunas\n",
    "\n",
    "- age: Idade do beneficiário \n",
    "\n",
    "- sex: Gênero do contratante do seguro (male, female)\n",
    "\n",
    "- bmi: Índice de massa corporal, que fornece uma compreensão do corpo, pesos relativamente altos ou baixos em relação à altura,\n",
    "índice objetivo de peso corporal (kg/m ^ 2) usando a relação entre altura e peso, idealmente 18,5 a 24,9\n",
    "\n",
    "- children: Numéro de filhos / dependentes cobertos pelo seguro\n",
    "\n",
    "- smoker: Fumante\n",
    "\n",
    "- region: Área onde o beneficiário reside nos Estados Unidos (northeast, southeast, southwest, northwest).\n",
    "\n",
    "- charges: Despesas médicas individuais pagas pelo seguro de saúde"
   ]
  },
  {
   "cell_type": "markdown",
   "id": "90b4feb5",
   "metadata": {},
   "source": [
    "## Get Started"
   ]
  },
  {
   "cell_type": "markdown",
   "id": "12d912b1",
   "metadata": {},
   "source": [
    "#### Imports"
   ]
  },
  {
   "cell_type": "code",
   "execution_count": 140,
   "id": "adb881c7-80df-4f76-90b3-5ce35d7edf86",
   "metadata": {},
   "outputs": [],
   "source": [
    "import pandas as pd\n",
    "import matplotlib as mpl\n",
    "import matplotlib.pyplot as plt\n",
    "import numpy as np\n",
    "import os\n",
    "\n",
    "from sklearn.model_selection import train_test_split\n",
    "from sklearn.linear_model import LinearRegression\n",
    "from sklearn.metrics import mean_squared_error, mean_absolute_error, r2_score"
   ]
  },
  {
   "cell_type": "markdown",
   "id": "fd2c2b85",
   "metadata": {},
   "source": [
    "#### Configurações"
   ]
  },
  {
   "cell_type": "code",
   "execution_count": 141,
   "id": "75b34f5c",
   "metadata": {},
   "outputs": [],
   "source": [
    "np.random.seed(42)\n",
    "\n",
    "mpl.rc('axes', labelsize=14)\n",
    "mpl.rc('xtick', labelsize=12)\n",
    "mpl.rc('ytick', labelsize=12)"
   ]
  },
  {
   "cell_type": "markdown",
   "id": "c92b08d0",
   "metadata": {},
   "source": [
    "#### Carregando os dados"
   ]
  },
  {
   "cell_type": "markdown",
   "id": "ed3f85df",
   "metadata": {},
   "source": [
    "Utilizando o pandas para carregar a base de dados `.csv` e mostrando as primeiras 5 linhas da tabela com `dados.head()`"
   ]
  },
  {
   "cell_type": "code",
   "execution_count": 142,
   "id": "bc3d3250-09bd-483e-ac75-93cdad8d837b",
   "metadata": {},
   "outputs": [
    {
     "data": {
      "text/html": [
       "<div>\n",
       "<style scoped>\n",
       "    .dataframe tbody tr th:only-of-type {\n",
       "        vertical-align: middle;\n",
       "    }\n",
       "\n",
       "    .dataframe tbody tr th {\n",
       "        vertical-align: top;\n",
       "    }\n",
       "\n",
       "    .dataframe thead th {\n",
       "        text-align: right;\n",
       "    }\n",
       "</style>\n",
       "<table border=\"1\" class=\"dataframe\">\n",
       "  <thead>\n",
       "    <tr style=\"text-align: right;\">\n",
       "      <th></th>\n",
       "      <th>age</th>\n",
       "      <th>sex</th>\n",
       "      <th>bmi</th>\n",
       "      <th>children</th>\n",
       "      <th>smoker</th>\n",
       "      <th>region</th>\n",
       "      <th>charges</th>\n",
       "    </tr>\n",
       "  </thead>\n",
       "  <tbody>\n",
       "    <tr>\n",
       "      <th>0</th>\n",
       "      <td>19</td>\n",
       "      <td>female</td>\n",
       "      <td>27.900</td>\n",
       "      <td>0</td>\n",
       "      <td>yes</td>\n",
       "      <td>southwest</td>\n",
       "      <td>16884.92400</td>\n",
       "    </tr>\n",
       "    <tr>\n",
       "      <th>1</th>\n",
       "      <td>18</td>\n",
       "      <td>male</td>\n",
       "      <td>33.770</td>\n",
       "      <td>1</td>\n",
       "      <td>no</td>\n",
       "      <td>southeast</td>\n",
       "      <td>1725.55230</td>\n",
       "    </tr>\n",
       "    <tr>\n",
       "      <th>2</th>\n",
       "      <td>28</td>\n",
       "      <td>male</td>\n",
       "      <td>33.000</td>\n",
       "      <td>3</td>\n",
       "      <td>no</td>\n",
       "      <td>southeast</td>\n",
       "      <td>4449.46200</td>\n",
       "    </tr>\n",
       "    <tr>\n",
       "      <th>3</th>\n",
       "      <td>33</td>\n",
       "      <td>male</td>\n",
       "      <td>22.705</td>\n",
       "      <td>0</td>\n",
       "      <td>no</td>\n",
       "      <td>northwest</td>\n",
       "      <td>21984.47061</td>\n",
       "    </tr>\n",
       "    <tr>\n",
       "      <th>4</th>\n",
       "      <td>32</td>\n",
       "      <td>male</td>\n",
       "      <td>28.880</td>\n",
       "      <td>0</td>\n",
       "      <td>no</td>\n",
       "      <td>northwest</td>\n",
       "      <td>3866.85520</td>\n",
       "    </tr>\n",
       "  </tbody>\n",
       "</table>\n",
       "</div>"
      ],
      "text/plain": [
       "   age     sex     bmi  children smoker     region      charges\n",
       "0   19  female  27.900         0    yes  southwest  16884.92400\n",
       "1   18    male  33.770         1     no  southeast   1725.55230\n",
       "2   28    male  33.000         3     no  southeast   4449.46200\n",
       "3   33    male  22.705         0     no  northwest  21984.47061\n",
       "4   32    male  28.880         0     no  northwest   3866.85520"
      ]
     },
     "execution_count": 142,
     "metadata": {},
     "output_type": "execute_result"
    }
   ],
   "source": [
    "dados = pd.read_csv('insurance.csv')\n",
    "dados.head()"
   ]
  },
  {
   "cell_type": "markdown",
   "id": "46147864",
   "metadata": {},
   "source": [
    "Usando `dados.shape` para mostrar a quantidade de linhas e colunas. Nessa base de dados temos 1338 linhas e 7 colunas"
   ]
  },
  {
   "cell_type": "code",
   "execution_count": 143,
   "id": "000268b1",
   "metadata": {},
   "outputs": [
    {
     "data": {
      "text/plain": [
       "(1338, 7)"
      ]
     },
     "execution_count": 143,
     "metadata": {},
     "output_type": "execute_result"
    }
   ],
   "source": [
    "dados.shape"
   ]
  },
  {
   "cell_type": "markdown",
   "id": "4822b088",
   "metadata": {},
   "source": [
    "#### Analisando os dados"
   ]
  },
  {
   "cell_type": "code",
   "execution_count": 144,
   "id": "a87e9318",
   "metadata": {},
   "outputs": [
    {
     "name": "stdout",
     "output_type": "stream",
     "text": [
      "<class 'pandas.core.frame.DataFrame'>\n",
      "RangeIndex: 1338 entries, 0 to 1337\n",
      "Data columns (total 7 columns):\n",
      " #   Column    Non-Null Count  Dtype  \n",
      "---  ------    --------------  -----  \n",
      " 0   age       1338 non-null   int64  \n",
      " 1   sex       1338 non-null   object \n",
      " 2   bmi       1338 non-null   float64\n",
      " 3   children  1338 non-null   int64  \n",
      " 4   smoker    1338 non-null   object \n",
      " 5   region    1338 non-null   object \n",
      " 6   charges   1338 non-null   float64\n",
      "dtypes: float64(2), int64(2), object(3)\n",
      "memory usage: 73.3+ KB\n"
     ]
    }
   ],
   "source": [
    "dados.info()"
   ]
  },
  {
   "cell_type": "markdown",
   "id": "ba4df120",
   "metadata": {},
   "source": [
    "Analisando as informações da base de dados, vemos que não existe nenhum dado nulo e que há 3 tipos diferentes de dados (int64, object e float64)"
   ]
  },
  {
   "cell_type": "markdown",
   "id": "c2da1c06",
   "metadata": {},
   "source": [
    "O gráfico acima mostra a relação entre o custo do plano em função da quantidade de filhos/dependentes que o beneficiário tem. Não nos diz muita coisa"
   ]
  },
  {
   "cell_type": "code",
   "execution_count": 145,
   "id": "a40f4d80",
   "metadata": {},
   "outputs": [
    {
     "data": {
      "text/plain": [
       "<Axes: xlabel='smoker', ylabel='charges'>"
      ]
     },
     "execution_count": 145,
     "metadata": {},
     "output_type": "execute_result"
    },
    {
     "data": {
      "image/png": "[encoded data removed]",
      "text/plain": [
       "<Figure size 640x480 with 1 Axes>"
      ]
     },
     "metadata": {},
     "output_type": "display_data"
    }
   ],
   "source": [
    "dados.plot.scatter(x='smoker', y='charges')"
   ]
  },
  {
   "cell_type": "markdown",
   "id": "a9ef1f70",
   "metadata": {},
   "source": [
    "O gráfico acima mostra a relação entre o custo do plano em função se o beneficiário é ou não fumante. Nesse levantamento podemos ver que há uma diferença, o valor do plano é menor em usuários não fumantes se comparados aos usuário fumantes. Pode ser uma boa característica para nosso target"
   ]
  },
  {
   "cell_type": "code",
   "execution_count": 146,
   "id": "6664720a",
   "metadata": {},
   "outputs": [
    {
     "data": {
      "text/plain": [
       "array([[<Axes: title={'center': 'age'}>, <Axes: title={'center': 'bmi'}>],\n",
       "       [<Axes: title={'center': 'children'}>,\n",
       "        <Axes: title={'center': 'charges'}>]], dtype=object)"
      ]
     },
     "execution_count": 146,
     "metadata": {},
     "output_type": "execute_result"
    },
    {
     "data": {
      "image/png": "[encoded data removed]",
      "text/plain": [
       "<Figure size 2000x1500 with 4 Axes>"
      ]
     },
     "metadata": {},
     "output_type": "display_data"
    }
   ],
   "source": [
    "dados.hist(bins=50, figsize=(20,15))"
   ]
  },
  {
   "cell_type": "markdown",
   "id": "12249a6b",
   "metadata": {},
   "source": [
    "### Pré-processamento dos dados"
   ]
  },
  {
   "cell_type": "code",
   "execution_count": 147,
   "id": "4ee8918d",
   "metadata": {},
   "outputs": [],
   "source": [
    "x = dados[['smoker', 'bmi']]"
   ]
  },
  {
   "cell_type": "code",
   "execution_count": 148,
   "id": "58157966",
   "metadata": {},
   "outputs": [
    {
     "data": {
      "text/html": [
       "<div>\n",
       "<style scoped>\n",
       "    .dataframe tbody tr th:only-of-type {\n",
       "        vertical-align: middle;\n",
       "    }\n",
       "\n",
       "    .dataframe tbody tr th {\n",
       "        vertical-align: top;\n",
       "    }\n",
       "\n",
       "    .dataframe thead th {\n",
       "        text-align: right;\n",
       "    }\n",
       "</style>\n",
       "<table border=\"1\" class=\"dataframe\">\n",
       "  <thead>\n",
       "    <tr style=\"text-align: right;\">\n",
       "      <th></th>\n",
       "      <th>smoker</th>\n",
       "      <th>bmi</th>\n",
       "    </tr>\n",
       "  </thead>\n",
       "  <tbody>\n",
       "    <tr>\n",
       "      <th>0</th>\n",
       "      <td>yes</td>\n",
       "      <td>27.900</td>\n",
       "    </tr>\n",
       "    <tr>\n",
       "      <th>1</th>\n",
       "      <td>no</td>\n",
       "      <td>33.770</td>\n",
       "    </tr>\n",
       "    <tr>\n",
       "      <th>2</th>\n",
       "      <td>no</td>\n",
       "      <td>33.000</td>\n",
       "    </tr>\n",
       "    <tr>\n",
       "      <th>3</th>\n",
       "      <td>no</td>\n",
       "      <td>22.705</td>\n",
       "    </tr>\n",
       "    <tr>\n",
       "      <th>4</th>\n",
       "      <td>no</td>\n",
       "      <td>28.880</td>\n",
       "    </tr>\n",
       "    <tr>\n",
       "      <th>...</th>\n",
       "      <td>...</td>\n",
       "      <td>...</td>\n",
       "    </tr>\n",
       "    <tr>\n",
       "      <th>1333</th>\n",
       "      <td>no</td>\n",
       "      <td>30.970</td>\n",
       "    </tr>\n",
       "    <tr>\n",
       "      <th>1334</th>\n",
       "      <td>no</td>\n",
       "      <td>31.920</td>\n",
       "    </tr>\n",
       "    <tr>\n",
       "      <th>1335</th>\n",
       "      <td>no</td>\n",
       "      <td>36.850</td>\n",
       "    </tr>\n",
       "    <tr>\n",
       "      <th>1336</th>\n",
       "      <td>no</td>\n",
       "      <td>25.800</td>\n",
       "    </tr>\n",
       "    <tr>\n",
       "      <th>1337</th>\n",
       "      <td>yes</td>\n",
       "      <td>29.070</td>\n",
       "    </tr>\n",
       "  </tbody>\n",
       "</table>\n",
       "<p>1338 rows × 2 columns</p>\n",
       "</div>"
      ],
      "text/plain": [
       "     smoker     bmi\n",
       "0       yes  27.900\n",
       "1        no  33.770\n",
       "2        no  33.000\n",
       "3        no  22.705\n",
       "4        no  28.880\n",
       "...     ...     ...\n",
       "1333     no  30.970\n",
       "1334     no  31.920\n",
       "1335     no  36.850\n",
       "1336     no  25.800\n",
       "1337    yes  29.070\n",
       "\n",
       "[1338 rows x 2 columns]"
      ]
     },
     "execution_count": 148,
     "metadata": {},
     "output_type": "execute_result"
    }
   ],
   "source": [
    "x"
   ]
  },
  {
   "cell_type": "code",
   "execution_count": 149,
   "id": "6af2dca7",
   "metadata": {},
   "outputs": [
    {
     "data": {
      "text/plain": [
       "0       16884.92400\n",
       "1        1725.55230\n",
       "2        4449.46200\n",
       "3       21984.47061\n",
       "4        3866.85520\n",
       "           ...     \n",
       "1333    10600.54830\n",
       "1334     2205.98080\n",
       "1335     1629.83350\n",
       "1336     2007.94500\n",
       "1337    29141.36030\n",
       "Name: charges, Length: 1338, dtype: float64"
      ]
     },
     "execution_count": 149,
     "metadata": {},
     "output_type": "execute_result"
    }
   ],
   "source": [
    "y = dados[\"charges\"]\n",
    "y"
   ]
  },
  {
   "cell_type": "code",
   "execution_count": null,
   "id": "2555911e",
   "metadata": {},
   "outputs": [],
   "source": []
  },
  {
   "cell_type": "markdown",
   "id": "c32565b2",
   "metadata": {},
   "source": [
    "### Modelagem"
   ]
  },
  {
   "cell_type": "code",
   "execution_count": 150,
   "id": "f5ce8f79",
   "metadata": {},
   "outputs": [
    {
     "name": "stdout",
     "output_type": "stream",
     "text": [
      "1070 treinamento + 268 teste\n"
     ]
    }
   ],
   "source": [
    "df_train, df_test = train_test_split(dados, test_size=0.2, random_state=7)\n",
    "print(len(df_train), \"treinamento +\", len(df_test), \"teste\")"
   ]
  },
  {
   "cell_type": "code",
   "execution_count": 151,
   "id": "6d5280fd",
   "metadata": {},
   "outputs": [
    {
     "name": "stderr",
     "output_type": "stream",
     "text": [
      "/tmp/ipykernel_130167/384358269.py:2: FutureWarning: A value is trying to be set on a copy of a DataFrame or Series through chained assignment using an inplace method.\n",
      "The behavior will change in pandas 3.0. This inplace method will never work because the intermediate object on which we are setting values always behaves as a copy.\n",
      "\n",
      "For example, when doing 'df[col].method(value, inplace=True)', try using 'df.method({col: value}, inplace=True)' or df[col] = df[col].method(value) instead, to perform the operation inplace on the original object.\n",
      "\n",
      "\n",
      "  dados['charges_category'].where(dados['charges_category'] < 2, 2.0, inplace=True)\n"
     ]
    }
   ],
   "source": [
    "dados['charges_category'] = np.ceil(dados['charges'] /1.5)\n",
    "dados['charges_category'].where(dados['charges_category'] < 2, 2.0, inplace=True)"
   ]
  },
  {
   "cell_type": "code",
   "execution_count": 152,
   "id": "670d1bd1",
   "metadata": {},
   "outputs": [],
   "source": [
    "dados['charges_category'] = pd.cut(dados['charges'],\n",
    "                                   bins=[0., 1.5, 3.0, 4.5, 6., np.inf],\n",
    "                                   labels=[1,2,3,4,5])"
   ]
  },
  {
   "cell_type": "code",
   "execution_count": 153,
   "id": "440f8029",
   "metadata": {},
   "outputs": [
    {
     "data": {
      "text/plain": [
       "charges_category\n",
       "5    1338\n",
       "1       0\n",
       "2       0\n",
       "3       0\n",
       "4       0\n",
       "Name: count, dtype: int64"
      ]
     },
     "execution_count": 153,
     "metadata": {},
     "output_type": "execute_result"
    }
   ],
   "source": [
    "dados['charges_category'].value_counts()"
   ]
  },
  {
   "cell_type": "code",
   "execution_count": null,
   "id": "e22dd957",
   "metadata": {},
   "outputs": [],
   "source": []
  }
 ],
 "metadata": {
  "kernelspec": {
   "display_name": "Python 3 (ipykernel)",
   "language": "python",
   "name": "python3"
  },
  "language_info": {
   "codemirror_mode": {
    "name": "ipython",
    "version": 3
   },
   "file_extension": ".py",
   "mimetype": "text/x-python",
   "name": "python",
   "nbconvert_exporter": "python",
   "pygments_lexer": "ipython3",
   "version": "3.10.12"
  }
 },
 "nbformat": 4,
 "nbformat_minor": 5
}
